{
 "cells": [
  {
   "cell_type": "markdown",
   "metadata": {},
   "source": [
    "## Modelling"
   ]
  },
  {
   "cell_type": "code",
   "execution_count": null,
   "metadata": {},
   "outputs": [
    {
     "name": "stdout",
     "output_type": "stream",
     "text": [
      "Access denied with the following error:\n"
     ]
    },
    {
     "name": "stderr",
     "output_type": "stream",
     "text": [
      "\n",
      " \tCannot retrieve the public link of the file. You may need to change\n",
      "\tthe permission to 'Anyone with the link', or have had many accesses. \n",
      "\n",
      "You may still be able to access the file from the browser:\n",
      "\n",
      "\t https://drive.google.com/uc?id=10DXgjv9c7TONGhE38oI5oHTWff8NJmJn \n",
      "\n"
     ]
    }
   ],
   "source": [
    "import gdown\n",
    "\n",
    "id = \"10DXgjv9c7TONGhE38oI5oHTWff8NJmJn\"\n",
    "output = \"yolov8_medium_20e.pt\"\n",
    "gdown.download(id=id, output=output, quiet=False)"
   ]
  },
  {
   "cell_type": "markdown",
   "metadata": {},
   "source": [
    "### YOLOv8 Predictions"
   ]
  },
  {
   "cell_type": "code",
   "execution_count": null,
   "metadata": {},
   "outputs": [],
   "source": [
    "# Load the trained YOLOv8 model downloaded from Colab\n",
    "model_path = \"downloaded_models/trained_model_yolov8_medium_20e/weights/best.pt\"\n",
    "model = YOLO(model_path)"
   ]
  },
  {
   "cell_type": "code",
   "execution_count": null,
   "metadata": {},
   "outputs": [
    {
     "name": "stdout",
     "output_type": "stream",
     "text": [
      "\n",
      "WARNING ⚠️ imgsz=[400] must be multiple of max stride 32, updating to [416]\n",
      "image 1/1 /Users/moritzbaumann/Documents/Courses/Data_Science_Bootcamp/Final_Project/solar_panel_object_detection/datasets/test_images/sanja_home.png: 416x416 1 sp, 120.3ms\n",
      "Speed: 1.3ms preprocess, 120.3ms inference, 1.1ms postprocess per image at shape (1, 3, 416, 416)\n",
      "Results saved to \u001b[1mruns/detect/predict3\u001b[0m\n"
     ]
    },
    {
     "data": {
      "text/plain": [
       "[ultralytics.engine.results.Results object with attributes:\n",
       " \n",
       " boxes: ultralytics.engine.results.Boxes object\n",
       " keypoints: None\n",
       " masks: None\n",
       " names: {0: 'sp'}\n",
       " obb: None\n",
       " orig_img: array([[[ 99,  75,  48],\n",
       "         [100,  75,  49],\n",
       "         [101,  77,  50],\n",
       "         ...,\n",
       "         [151, 121,  81],\n",
       "         [148, 123,  81],\n",
       "         [150, 124,  82]],\n",
       " \n",
       "        [[100,  76,  50],\n",
       "         [101,  77,  50],\n",
       "         [102,  78,  51],\n",
       "         ...,\n",
       "         [149, 121,  81],\n",
       "         [148, 123,  82],\n",
       "         [148, 123,  82]],\n",
       " \n",
       "        [[100,  76,  50],\n",
       "         [101,  77,  50],\n",
       "         [103,  79,  51],\n",
       "         ...,\n",
       "         [145, 122,  82],\n",
       "         [145, 122,  81],\n",
       "         [148, 123,  82]],\n",
       " \n",
       "        ...,\n",
       " \n",
       "        [[237, 221, 194],\n",
       "         [236, 221, 192],\n",
       "         [226, 211, 182],\n",
       "         ...,\n",
       "         [ 99,  75,  46],\n",
       "         [105,  81,  53],\n",
       "         [108,  84,  55]],\n",
       " \n",
       "        [[240, 222, 196],\n",
       "         [238, 223, 194],\n",
       "         [231, 213, 185],\n",
       "         ...,\n",
       "         [100,  76,  48],\n",
       "         [111,  85,  57],\n",
       "         [114,  89,  61]],\n",
       " \n",
       "        [[241, 223, 198],\n",
       "         [241, 224, 196],\n",
       "         [233, 216, 188],\n",
       "         ...,\n",
       "         [104,  80,  52],\n",
       "         [114,  89,  61],\n",
       "         [120,  94,  66]]], dtype=uint8)\n",
       " orig_shape: (517, 544)\n",
       " path: '/Users/moritzbaumann/Documents/Courses/Data_Science_Bootcamp/Final_Project/solar_panel_object_detection/datasets/test_images/sanja_home.png'\n",
       " probs: None\n",
       " save_dir: 'runs/detect/predict3'\n",
       " speed: {'preprocess': 1.3039112091064453, 'inference': 120.29886245727539, 'postprocess': 1.096963882446289}]"
      ]
     },
     "metadata": {},
     "output_type": "display_data"
    }
   ],
   "source": [
    "# Predict single image\n",
    "image_path = \"./datasets/test_images/sanja_home.png\"\n",
    "model.predict(image_path, save=True, imgsz=400)"
   ]
  },
  {
   "cell_type": "code",
   "execution_count": null,
   "metadata": {},
   "outputs": [],
   "source": [
    "# Predict multiple images\n",
    "image_path = \"./datasets/test_images/\"\n",
    "image_dir = os.listdir(image_path)\n",
    "\n",
    "for filename in image_dir:\n",
    "    path = image_path + filename\n",
    "    model.predict(path, save=True, imgsz=400)"
   ]
  }
 ],
 "metadata": {
  "language_info": {
   "name": "python"
  }
 },
 "nbformat": 4,
 "nbformat_minor": 2
}
