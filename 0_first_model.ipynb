{
 "cells": [
  {
   "cell_type": "markdown",
   "metadata": {},
   "source": [
    "WBS Coding School -- Final Project\n",
    "\n",
    "---\n",
    "\n",
    "|| **First Model** ||\n",
    "\n",
    "# Solar Panel Object Detection\n",
    "\n",
    "---"
   ]
  },
  {
   "cell_type": "markdown",
   "metadata": {},
   "source": [
    "To-Do:\n",
    "- replicate the following notebook with our dataset:\n",
    "https://freedium.cfd/https%3A%2F%2Fmedium.com%2Fartificialis%2Fdetecting-aircrafts-on-airbus-pleiades-imagery-with-yolov5-5f3d464b75ad\n"
   ]
  }
 ],
 "metadata": {
  "language_info": {
   "name": "python"
  }
 },
 "nbformat": 4,
 "nbformat_minor": 2
}
