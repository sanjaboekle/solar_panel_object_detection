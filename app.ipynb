{
 "cells": [
  {
   "cell_type": "code",
   "execution_count": 1,
   "metadata": {},
   "outputs": [],
   "source": [
    "import streamlit as st\n",
    "from geopy.geocoders import Nominatim\n",
    "import ee\n",
    "import geemap"
   ]
  },
  {
   "cell_type": "code",
   "execution_count": null,
   "metadata": {},
   "outputs": [],
   "source": [
    "st.title(\"My first App\")\n",
    "st.write(\"This is my first Streamlit application.\")\n",
    "\n",
    "st.sidebar.title(\"My Sidebar\")\n",
    "st.sidebar.selectbox(\"Select an Option\", [\"Option 1\", \"Option 2\", \"Option 3\"])"
   ]
  },
  {
   "cell_type": "code",
   "execution_count": 2,
   "metadata": {},
   "outputs": [
    {
     "data": {
      "text/html": [
       "\n",
       "            <style>\n",
       "                .geemap-dark {\n",
       "                    --jp-widgets-color: white;\n",
       "                    --jp-widgets-label-color: white;\n",
       "                    --jp-ui-font-color1: white;\n",
       "                    --jp-layout-color2: #454545;\n",
       "                    background-color: #383838;\n",
       "                }\n",
       "                    \n",
       "                .geemap-dark .jupyter-button {\n",
       "                    --jp-layout-color3: #383838;\n",
       "                }\n",
       "                \n",
       "                .geemap-colab {\n",
       "                    background-color: var(--colab-primary-surface-color, white);\n",
       "                }\n",
       "                    \n",
       "                .geemap-colab .jupyter-button {\n",
       "                    --jp-layout-color3: var(--colab-primary-surface-color, white);\n",
       "                }\n",
       "            </style>\n",
       "            "
      ],
      "text/plain": [
       "<IPython.core.display.HTML object>"
      ]
     },
     "metadata": {},
     "output_type": "display_data"
    }
   ],
   "source": [
    "# Authenticate and initialize the Earth Engine\n",
    "ee.Authenticate()\n",
    "ee.Initialize(project=\"ee-sanjaboekle\")"
   ]
  },
  {
   "cell_type": "code",
   "execution_count": 3,
   "metadata": {},
   "outputs": [
    {
     "data": {
      "text/html": [
       "\n",
       "            <style>\n",
       "                .geemap-dark {\n",
       "                    --jp-widgets-color: white;\n",
       "                    --jp-widgets-label-color: white;\n",
       "                    --jp-ui-font-color1: white;\n",
       "                    --jp-layout-color2: #454545;\n",
       "                    background-color: #383838;\n",
       "                }\n",
       "                    \n",
       "                .geemap-dark .jupyter-button {\n",
       "                    --jp-layout-color3: #383838;\n",
       "                }\n",
       "                \n",
       "                .geemap-colab {\n",
       "                    background-color: var(--colab-primary-surface-color, white);\n",
       "                }\n",
       "                    \n",
       "                .geemap-colab .jupyter-button {\n",
       "                    --jp-layout-color3: var(--colab-primary-surface-color, white);\n",
       "                }\n",
       "            </style>\n",
       "            "
      ],
      "text/plain": [
       "<IPython.core.display.HTML object>"
      ]
     },
     "metadata": {},
     "output_type": "display_data"
    }
   ],
   "source": [
    "# Initialize the geolocator\n",
    "geolocator = Nominatim(user_agent=\"solar\")\n",
    "\n",
    "# Define the address\n",
    "address = \"Urbanstrasse 64 Berlin\"\n",
    "\n",
    "# Get the location\n",
    "location = geolocator.geocode(address)"
   ]
  },
  {
   "cell_type": "code",
   "execution_count": 4,
   "metadata": {},
   "outputs": [
    {
     "data": {
      "text/html": [
       "\n",
       "            <style>\n",
       "                .geemap-dark {\n",
       "                    --jp-widgets-color: white;\n",
       "                    --jp-widgets-label-color: white;\n",
       "                    --jp-ui-font-color1: white;\n",
       "                    --jp-layout-color2: #454545;\n",
       "                    background-color: #383838;\n",
       "                }\n",
       "                    \n",
       "                .geemap-dark .jupyter-button {\n",
       "                    --jp-layout-color3: #383838;\n",
       "                }\n",
       "                \n",
       "                .geemap-colab {\n",
       "                    background-color: var(--colab-primary-surface-color, white);\n",
       "                }\n",
       "                    \n",
       "                .geemap-colab .jupyter-button {\n",
       "                    --jp-layout-color3: var(--colab-primary-surface-color, white);\n",
       "                }\n",
       "            </style>\n",
       "            "
      ],
      "text/plain": [
       "<IPython.core.display.HTML object>"
      ]
     },
     "metadata": {},
     "output_type": "display_data"
    },
    {
     "data": {
      "application/vnd.jupyter.widget-view+json": {
       "model_id": "3d54ffa4dea343639eccbce3f47fa1b4",
       "version_major": 2,
       "version_minor": 0
      },
      "text/plain": [
       "Map(center=[52.4889334, 13.4210127], controls=(WidgetControl(options=['position', 'transparent_bg'], widget=Se…"
      ]
     },
     "metadata": {},
     "output_type": "display_data"
    }
   ],
   "source": [
    "# Create a geemap map centered at the given latitude and longitude\n",
    "Map = geemap.Map(center=[location.latitude, location.longitude], zoom=20)\n",
    "# Add the Esri World Imagery basemap\n",
    "Map.add_basemap(\"Esri.WorldImagery\")\n",
    "Map"
   ]
  },
  {
   "cell_type": "code",
   "execution_count": 5,
   "metadata": {},
   "outputs": [
    {
     "data": {
      "text/html": [
       "\n",
       "            <style>\n",
       "                .geemap-dark {\n",
       "                    --jp-widgets-color: white;\n",
       "                    --jp-widgets-label-color: white;\n",
       "                    --jp-ui-font-color1: white;\n",
       "                    --jp-layout-color2: #454545;\n",
       "                    background-color: #383838;\n",
       "                }\n",
       "                    \n",
       "                .geemap-dark .jupyter-button {\n",
       "                    --jp-layout-color3: #383838;\n",
       "                }\n",
       "                \n",
       "                .geemap-colab {\n",
       "                    background-color: var(--colab-primary-surface-color, white);\n",
       "                }\n",
       "                    \n",
       "                .geemap-colab .jupyter-button {\n",
       "                    --jp-layout-color3: var(--colab-primary-surface-color, white);\n",
       "                }\n",
       "            </style>\n",
       "            "
      ],
      "text/plain": [
       "<IPython.core.display.HTML object>"
      ]
     },
     "metadata": {},
     "output_type": "display_data"
    },
    {
     "data": {
      "text/plain": [
       "'./hahahahahaha.jpg'"
      ]
     },
     "execution_count": 5,
     "metadata": {},
     "output_type": "execute_result"
    }
   ],
   "source": [
    "geemap.common.screen_capture(\"./hahahahahaha.jpg\", monitor=1)"
   ]
  },
  {
   "cell_type": "code",
   "execution_count": 6,
   "metadata": {},
   "outputs": [
    {
     "data": {
      "text/html": [
       "\n",
       "            <style>\n",
       "                .geemap-dark {\n",
       "                    --jp-widgets-color: white;\n",
       "                    --jp-widgets-label-color: white;\n",
       "                    --jp-ui-font-color1: white;\n",
       "                    --jp-layout-color2: #454545;\n",
       "                    background-color: #383838;\n",
       "                }\n",
       "                    \n",
       "                .geemap-dark .jupyter-button {\n",
       "                    --jp-layout-color3: #383838;\n",
       "                }\n",
       "                \n",
       "                .geemap-colab {\n",
       "                    background-color: var(--colab-primary-surface-color, white);\n",
       "                }\n",
       "                    \n",
       "                .geemap-colab .jupyter-button {\n",
       "                    --jp-layout-color3: var(--colab-primary-surface-color, white);\n",
       "                }\n",
       "            </style>\n",
       "            "
      ],
      "text/plain": [
       "<IPython.core.display.HTML object>"
      ]
     },
     "metadata": {},
     "output_type": "display_data"
    }
   ],
   "source": [
    "Map.draw_last_feature"
   ]
  },
  {
   "cell_type": "code",
   "execution_count": 7,
   "metadata": {},
   "outputs": [
    {
     "data": {
      "text/html": [
       "\n",
       "            <style>\n",
       "                .geemap-dark {\n",
       "                    --jp-widgets-color: white;\n",
       "                    --jp-widgets-label-color: white;\n",
       "                    --jp-ui-font-color1: white;\n",
       "                    --jp-layout-color2: #454545;\n",
       "                    background-color: #383838;\n",
       "                }\n",
       "                    \n",
       "                .geemap-dark .jupyter-button {\n",
       "                    --jp-layout-color3: #383838;\n",
       "                }\n",
       "                \n",
       "                .geemap-colab {\n",
       "                    background-color: var(--colab-primary-surface-color, white);\n",
       "                }\n",
       "                    \n",
       "                .geemap-colab .jupyter-button {\n",
       "                    --jp-layout-color3: var(--colab-primary-surface-color, white);\n",
       "                }\n",
       "            </style>\n",
       "            "
      ],
      "text/plain": [
       "<IPython.core.display.HTML object>"
      ]
     },
     "metadata": {},
     "output_type": "display_data"
    },
    {
     "data": {
      "text/plain": [
       "['OpenStreetMap.Mapnik', 'Esri.WorldImagery']"
      ]
     },
     "execution_count": 7,
     "metadata": {},
     "output_type": "execute_result"
    }
   ],
   "source": [
    "Map.get_layer_names()"
   ]
  },
  {
   "cell_type": "markdown",
   "metadata": {},
   "source": [
    "## Add Earth Engine Data"
   ]
  },
  {
   "cell_type": "code",
   "execution_count": 8,
   "metadata": {},
   "outputs": [
    {
     "data": {
      "text/html": [
       "\n",
       "            <style>\n",
       "                .geemap-dark {\n",
       "                    --jp-widgets-color: white;\n",
       "                    --jp-widgets-label-color: white;\n",
       "                    --jp-ui-font-color1: white;\n",
       "                    --jp-layout-color2: #454545;\n",
       "                    background-color: #383838;\n",
       "                }\n",
       "                    \n",
       "                .geemap-dark .jupyter-button {\n",
       "                    --jp-layout-color3: #383838;\n",
       "                }\n",
       "                \n",
       "                .geemap-colab {\n",
       "                    background-color: var(--colab-primary-surface-color, white);\n",
       "                }\n",
       "                    \n",
       "                .geemap-colab .jupyter-button {\n",
       "                    --jp-layout-color3: var(--colab-primary-surface-color, white);\n",
       "                }\n",
       "            </style>\n",
       "            "
      ],
      "text/plain": [
       "<IPython.core.display.HTML object>"
      ]
     },
     "metadata": {},
     "output_type": "display_data"
    }
   ],
   "source": [
    "# Load a Landsat 8 Surface Reflectance image\n",
    "landsat8 = ee.ImageCollection(\"LANDSAT/LC08/C01/T1_SR\")\n",
    "\n",
    "# Load a Sentinel-2 MSI: MultiSpectral Instrument, Level-2A image\n",
    "sentinel2 = ee.ImageCollection(\"COPERNICUS/S2_HARMONIZED\")\n",
    "\n",
    "# Load a USGS 3DEP Lidar image\n",
    "lidar = ee.Image(\"USGS/NED\")\n",
    "\n",
    "# Load a WorldCover 2020 image\n",
    "worldcover = ee.ImageCollection(\"ESA/WorldCover/v100\")"
   ]
  },
  {
   "cell_type": "markdown",
   "metadata": {},
   "source": [
    "## Set visualization parameters"
   ]
  },
  {
   "cell_type": "code",
   "execution_count": 9,
   "metadata": {},
   "outputs": [
    {
     "data": {
      "text/html": [
       "\n",
       "            <style>\n",
       "                .geemap-dark {\n",
       "                    --jp-widgets-color: white;\n",
       "                    --jp-widgets-label-color: white;\n",
       "                    --jp-ui-font-color1: white;\n",
       "                    --jp-layout-color2: #454545;\n",
       "                    background-color: #383838;\n",
       "                }\n",
       "                    \n",
       "                .geemap-dark .jupyter-button {\n",
       "                    --jp-layout-color3: #383838;\n",
       "                }\n",
       "                \n",
       "                .geemap-colab {\n",
       "                    background-color: var(--colab-primary-surface-color, white);\n",
       "                }\n",
       "                    \n",
       "                .geemap-colab .jupyter-button {\n",
       "                    --jp-layout-color3: var(--colab-primary-surface-color, white);\n",
       "                }\n",
       "            </style>\n",
       "            "
      ],
      "text/plain": [
       "<IPython.core.display.HTML object>"
      ]
     },
     "metadata": {},
     "output_type": "display_data"
    }
   ],
   "source": [
    "# Visualization parameters for Landsat 8\n",
    "landsat8_vis = {\n",
    "    \"min\": 0,  # Minimum reflectance value\n",
    "    \"max\": 3000,  # Maximum reflectance value\n",
    "    \"bands\": [\"B4\", \"B3\", \"B2\"]  # Bands to display\n",
    "    # Landsat 8 images have multiple bands representing different ranges of the electromagnetic spectrum.\n",
    "    # 'B4', 'B3', and 'B2' correspond to the red, green, and blue parts of the spectrum, respectively.\n",
    "    # Displaying these three bands gives a natural color image.\n",
    "}\n",
    "\n",
    "# Visualization parameters for Sentinel-2\n",
    "sentinel2_vis = {\n",
    "    \"min\": 0,  # Minimum reflectance value\n",
    "    \"max\": 3000,  # Maximum reflectance value\n",
    "    \"bands\": [\"B4\", \"B3\", \"B2\"]  # Bands to display\n",
    "    # Sentinel-2 images also have multiple bands.\n",
    "    # 'B4', 'B3', and 'B2' correspond to the red, green, and blue parts of the spectrum, respectively.\n",
    "    # Displaying these three bands gives a natural color image.\n",
    "}\n",
    "\n",
    "# Visualization parameters for Lidar\n",
    "lidar_vis = {\n",
    "    \"min\": 0,  # Minimum elevation value\n",
    "    \"max\": 3000,  # Maximum elevation value\n",
    "    \"palette\": [\n",
    "        \"006633\",\n",
    "        \"E5FFCC\",\n",
    "        \"662A00\",\n",
    "        \"D8D8D8\",\n",
    "        \"F5F5F5\",\n",
    "    ]  # Color palette for elevation\n",
    "    # The colors are specified in hexadecimal format (RRGGBB).\n",
    "    # The palette goes from '006633' (dark green) at the minimum elevation\n",
    "    # to 'F5F5F5' (white) at the maximum elevation.\n",
    "}\n",
    "\n",
    "# Visualization parameters for WorldCover\n",
    "worldcover_vis = {\n",
    "    \"min\": 0,  # Minimum land cover class value\n",
    "    \"max\": 220,  # Maximum land cover class value\n",
    "    \"palette\": [\n",
    "        \"red\",\n",
    "        \"green\",\n",
    "        \"blue\",\n",
    "        \"yellow\",\n",
    "        \"orange\",\n",
    "    ]  # Color palette for land cover classes\n",
    "    # The colors are used to represent different land cover classes.\n",
    "    # The specific meaning of each color depends on the classification scheme used by the WorldCover dataset.\n",
    "}"
   ]
  },
  {
   "cell_type": "markdown",
   "metadata": {},
   "source": [
    "## Display data on the map"
   ]
  },
  {
   "cell_type": "code",
   "execution_count": 10,
   "metadata": {},
   "outputs": [
    {
     "data": {
      "text/html": [
       "\n",
       "            <style>\n",
       "                .geemap-dark {\n",
       "                    --jp-widgets-color: white;\n",
       "                    --jp-widgets-label-color: white;\n",
       "                    --jp-ui-font-color1: white;\n",
       "                    --jp-layout-color2: #454545;\n",
       "                    background-color: #383838;\n",
       "                }\n",
       "                    \n",
       "                .geemap-dark .jupyter-button {\n",
       "                    --jp-layout-color3: #383838;\n",
       "                }\n",
       "                \n",
       "                .geemap-colab {\n",
       "                    background-color: var(--colab-primary-surface-color, white);\n",
       "                }\n",
       "                    \n",
       "                .geemap-colab .jupyter-button {\n",
       "                    --jp-layout-color3: var(--colab-primary-surface-color, white);\n",
       "                }\n",
       "            </style>\n",
       "            "
      ],
      "text/plain": [
       "<IPython.core.display.HTML object>"
      ]
     },
     "metadata": {},
     "output_type": "display_data"
    }
   ],
   "source": [
    "# Add the Landsat 8 image to the map\n",
    "# Map.addLayer(landsat8.median(), landsat8_vis, \"Landsat 8\")\n",
    "\n",
    "# Add the Sentinel-2 image to the map\n",
    "Map.addLayer(sentinel2.median(), sentinel2_vis, \"Sentinel-2\")\n",
    "\n",
    "# Add the Lidar image to the map\n",
    "# Map.addLayer(lidar, lidar_vis, \"Lidar\")\n",
    "\n",
    "# Add the WorldCover image to the map\n",
    "# Map.addLayer(worldcover, worldcover_vis, \"WorldCover\")"
   ]
  },
  {
   "cell_type": "code",
   "execution_count": 11,
   "metadata": {},
   "outputs": [
    {
     "data": {
      "text/html": [
       "\n",
       "            <style>\n",
       "                .geemap-dark {\n",
       "                    --jp-widgets-color: white;\n",
       "                    --jp-widgets-label-color: white;\n",
       "                    --jp-ui-font-color1: white;\n",
       "                    --jp-layout-color2: #454545;\n",
       "                    background-color: #383838;\n",
       "                }\n",
       "                    \n",
       "                .geemap-dark .jupyter-button {\n",
       "                    --jp-layout-color3: #383838;\n",
       "                }\n",
       "                \n",
       "                .geemap-colab {\n",
       "                    background-color: var(--colab-primary-surface-color, white);\n",
       "                }\n",
       "                    \n",
       "                .geemap-colab .jupyter-button {\n",
       "                    --jp-layout-color3: var(--colab-primary-surface-color, white);\n",
       "                }\n",
       "            </style>\n",
       "            "
      ],
      "text/plain": [
       "<IPython.core.display.HTML object>"
      ]
     },
     "metadata": {},
     "output_type": "display_data"
    },
    {
     "data": {
      "application/vnd.jupyter.widget-view+json": {
       "model_id": "3d54ffa4dea343639eccbce3f47fa1b4",
       "version_major": 2,
       "version_minor": 0
      },
      "text/plain": [
       "Map(bottom=88073150.0, center=[52.4889334, 13.4210127], controls=(WidgetControl(options=['position', 'transpar…"
      ]
     },
     "metadata": {},
     "output_type": "display_data"
    }
   ],
   "source": [
    "Map"
   ]
  },
  {
   "cell_type": "code",
   "execution_count": 12,
   "metadata": {},
   "outputs": [
    {
     "data": {
      "text/html": [
       "\n",
       "            <style>\n",
       "                .geemap-dark {\n",
       "                    --jp-widgets-color: white;\n",
       "                    --jp-widgets-label-color: white;\n",
       "                    --jp-ui-font-color1: white;\n",
       "                    --jp-layout-color2: #454545;\n",
       "                    background-color: #383838;\n",
       "                }\n",
       "                    \n",
       "                .geemap-dark .jupyter-button {\n",
       "                    --jp-layout-color3: #383838;\n",
       "                }\n",
       "                \n",
       "                .geemap-colab {\n",
       "                    background-color: var(--colab-primary-surface-color, white);\n",
       "                }\n",
       "                    \n",
       "                .geemap-colab .jupyter-button {\n",
       "                    --jp-layout-color3: var(--colab-primary-surface-color, white);\n",
       "                }\n",
       "            </style>\n",
       "            "
      ],
      "text/plain": [
       "<IPython.core.display.HTML object>"
      ]
     },
     "metadata": {},
     "output_type": "display_data"
    },
    {
     "data": {
      "text/plain": [
       "[]"
      ]
     },
     "execution_count": 12,
     "metadata": {},
     "output_type": "execute_result"
    }
   ],
   "source": [
    "Map.draw_features"
   ]
  },
  {
   "cell_type": "code",
   "execution_count": 13,
   "metadata": {},
   "outputs": [
    {
     "data": {
      "text/html": [
       "\n",
       "            <style>\n",
       "                .geemap-dark {\n",
       "                    --jp-widgets-color: white;\n",
       "                    --jp-widgets-label-color: white;\n",
       "                    --jp-ui-font-color1: white;\n",
       "                    --jp-layout-color2: #454545;\n",
       "                    background-color: #383838;\n",
       "                }\n",
       "                    \n",
       "                .geemap-dark .jupyter-button {\n",
       "                    --jp-layout-color3: #383838;\n",
       "                }\n",
       "                \n",
       "                .geemap-colab {\n",
       "                    background-color: var(--colab-primary-surface-color, white);\n",
       "                }\n",
       "                    \n",
       "                .geemap-colab .jupyter-button {\n",
       "                    --jp-layout-color3: var(--colab-primary-surface-color, white);\n",
       "                }\n",
       "            </style>\n",
       "            "
      ],
      "text/plain": [
       "<IPython.core.display.HTML object>"
      ]
     },
     "metadata": {},
     "output_type": "display_data"
    }
   ],
   "source": [
    "Map.draw_last_feature"
   ]
  },
  {
   "cell_type": "code",
   "execution_count": null,
   "metadata": {},
   "outputs": [],
   "source": []
  },
  {
   "cell_type": "code",
   "execution_count": 2,
   "metadata": {},
   "outputs": [],
   "source": [
    "import os\n",
    "import leafmap\n",
    "from samgeo import SamGeo, tms_to_geotiff, get_basemaps"
   ]
  },
  {
   "cell_type": "code",
   "execution_count": 3,
   "metadata": {},
   "outputs": [
    {
     "data": {
      "application/vnd.jupyter.widget-view+json": {
       "model_id": "fc8f3b7e299447ea809bd66959bb3772",
       "version_major": 2,
       "version_minor": 0
      },
      "text/plain": [
       "Map(center=[29.67684, -95.369222], controls=(ZoomControl(options=['position', 'zoom_in_text', 'zoom_in_title',…"
      ]
     },
     "execution_count": 3,
     "metadata": {},
     "output_type": "execute_result"
    }
   ],
   "source": [
    "m = leafmap.Map(center=[29.676840, -95.369222], zoom=19)\n",
    "m.add_basemap(\"SATELLITE\")\n",
    "m"
   ]
  },
  {
   "cell_type": "code",
   "execution_count": 4,
   "metadata": {},
   "outputs": [],
   "source": [
    "if m.user_roi_bounds() is not None:\n",
    "    bbox = m.user_roi_bounds()\n",
    "else:\n",
    "    bbox = [-95.3704, 29.6762, -95.368, 29.6775]"
   ]
  },
  {
   "cell_type": "code",
   "execution_count": 5,
   "metadata": {},
   "outputs": [],
   "source": [
    "image = \"satellite.tif\""
   ]
  },
  {
   "cell_type": "code",
   "execution_count": 6,
   "metadata": {},
   "outputs": [
    {
     "data": {
      "text/plain": [
       "dict_keys(['BasemapAT.basemap', 'BasemapAT.grau', 'BasemapAT.highdpi', 'BasemapAT.orthofoto', 'BasemapAT.overlay', 'BasemapAT.surface', 'BasemapAT.terrain', 'CartoDB.DarkMatter', 'CartoDB.DarkMatterNoLabels', 'CartoDB.DarkMatterOnlyLabels', 'CartoDB.Positron', 'CartoDB.PositronNoLabels', 'CartoDB.PositronOnlyLabels', 'CartoDB.Voyager', 'CartoDB.VoyagerLabelsUnder', 'CartoDB.VoyagerNoLabels', 'CartoDB.VoyagerOnlyLabels', 'CyclOSM', 'Esri.AntarcticBasemap', 'Esri.AntarcticImagery', 'Esri.ArcticImagery', 'Esri.ArcticOceanBase', 'Esri.ArcticOceanReference', 'Esri.DeLorme', 'Esri.NatGeoWorldMap', 'Esri.OceanBasemap', 'Esri.WorldGrayCanvas', 'Esri.WorldImagery', 'Esri.WorldPhysical', 'Esri.WorldShadedRelief', 'Esri.WorldStreetMap', 'Esri.WorldTerrain', 'Esri.WorldTopoMap', 'FreeMapSK', 'Gaode.Normal', 'Gaode.Satellite', 'GeoportailFrance.Adminexpress_cog_Latest', 'GeoportailFrance.Adminexpress_cog_carto_Latest', 'GeoportailFrance.Areamanagement_Zfu', 'GeoportailFrance.Areamanagement_Zus', 'GeoportailFrance.Bdcarto_etat_major_Niveau3', 'GeoportailFrance.Bdcarto_etat_major_Niveau4', 'GeoportailFrance.Buildings_Buildings', 'GeoportailFrance.Communes_Prioritydisctrict', 'GeoportailFrance.Debroussaillement', 'GeoportailFrance.Dreal_Zonage_pinel', 'GeoportailFrance.Elevation_Contour_Line', 'GeoportailFrance.Elevation_Elevationgridcoverage_Shadow', 'GeoportailFrance.Elevation_Elevationgridcoverage_Threshold', 'GeoportailFrance.Elevation_Level0', 'GeoportailFrance.Elevation_Slopes', 'GeoportailFrance.Elevationgridcoverage_Highres_Quality', 'GeoportailFrance.Forets_Publiques', 'GeoportailFrance.Geographicalgridsystem_Dfci', 'GeoportailFrance.Geographicalgridsystems_1900typemaps', 'GeoportailFrance.Geographicalgridsystems_Bonne', 'GeoportailFrance.Geographicalgridsystems_Etatmajor10', 'GeoportailFrance.Geographicalgridsystems_Etatmajor40', 'GeoportailFrance.Geographicalgridsystems_Maps_Bduni_J1', 'GeoportailFrance.Geographicalgridsystems_Maps_Overview', 'GeoportailFrance.Geographicalgridsystems_Maps_Scan50_1950', 'GeoportailFrance.Geographicalgridsystems_Slopes_Mountain', 'GeoportailFrance.Geographicalgridsystems_Slopes_Pac', 'GeoportailFrance.Geographicalgridsystems_Terrier_v1', 'GeoportailFrance.Geographicalgridsystems_Terrier_v2', 'GeoportailFrance.Geographicalnames_Names', 'GeoportailFrance.Hedge_Hedge', 'GeoportailFrance.Hr_Orthoimagery_Orthophotos', 'GeoportailFrance.Hydrography_Bcae_Latest', 'GeoportailFrance.Hydrography_Hydrography', 'GeoportailFrance.Insee_Filosofi_Enfants_0_17_Ans_Secret', 'GeoportailFrance.Insee_Filosofi_Logements_Surface_Moyenne_Secret', 'GeoportailFrance.Insee_Filosofi_Niveau_De_Vie_Secret', 'GeoportailFrance.Insee_Filosofi_Part_Familles_Monoparentales_Secret', 'GeoportailFrance.Insee_Filosofi_Part_Individus_25_39_Ans_Secret', 'GeoportailFrance.Insee_Filosofi_Part_Individus_40_54_Ans_Secret', 'GeoportailFrance.Insee_Filosofi_Part_Individus_55_64_Ans_Secret', 'GeoportailFrance.Insee_Filosofi_Part_Logements_Apres_1990_Secret', 'GeoportailFrance.Insee_Filosofi_Part_Logements_Avant_1945_Secret', 'GeoportailFrance.Insee_Filosofi_Part_Logements_Collectifs_Secret', 'GeoportailFrance.Insee_Filosofi_Part_Logements_Construits_1945_1970_Secret', 'GeoportailFrance.Insee_Filosofi_Part_Logements_Construits_1970_1990_Secret', 'GeoportailFrance.Insee_Filosofi_Part_Logements_Sociaux_Secret', 'GeoportailFrance.Insee_Filosofi_Part_Menages_1_Personne_Secret', 'GeoportailFrance.Insee_Filosofi_Part_Menages_5_Personnes_Ouplus_Secret', 'GeoportailFrance.Insee_Filosofi_Part_Menages_Maison_Secret', 'GeoportailFrance.Insee_Filosofi_Part_Menages_Pauvres_Secret', 'GeoportailFrance.Insee_Filosofi_Part_Menages_Proprietaires_Secret', 'GeoportailFrance.Insee_Filosofi_Part_Plus_65_Ans_Secret', 'GeoportailFrance.Insee_Filosofi_Population', 'GeoportailFrance.Landcover_Cha00_fr', 'GeoportailFrance.Landcover_Cha06_dom', 'GeoportailFrance.Landcover_Cha06_fr', 'GeoportailFrance.Landcover_Cha12_dom', 'GeoportailFrance.Landcover_Cha12_fr', 'GeoportailFrance.Landcover_Cha18', 'GeoportailFrance.Landcover_Cha18_dom', 'GeoportailFrance.Landcover_Cha18_fr', 'GeoportailFrance.Landcover_Clc00_dom', 'GeoportailFrance.Landcover_Clc00_fr', 'GeoportailFrance.Landcover_Clc00r_fr', 'GeoportailFrance.Landcover_Clc06_dom', 'GeoportailFrance.Landcover_Clc06_fr', 'GeoportailFrance.Landcover_Clc06r_dom', 'GeoportailFrance.Landcover_Clc06r_fr', 'GeoportailFrance.Landcover_Clc12', 'GeoportailFrance.Landcover_Clc12_dom', 'GeoportailFrance.Landcover_Clc12_fr', 'GeoportailFrance.Landcover_Clc12r', 'GeoportailFrance.Landcover_Clc12r_dom', 'GeoportailFrance.Landcover_Clc12r_fr', 'GeoportailFrance.Landcover_Clc18', 'GeoportailFrance.Landcover_Clc18_dom', 'GeoportailFrance.Landcover_Clc18_fr', 'GeoportailFrance.Landcover_Clc90_fr', 'GeoportailFrance.Landcover_Forestareas', 'GeoportailFrance.Landcover_Forestinventory_V1', 'GeoportailFrance.Landcover_Forestinventory_V2', 'GeoportailFrance.Landcover_Grid_Clc00', 'GeoportailFrance.Landcover_Grid_Clc00_dom', 'GeoportailFrance.Landcover_Grid_Clc00_fr', 'GeoportailFrance.Landcover_Grid_Clc00r_fr', 'GeoportailFrance.Landcover_Grid_Clc06', 'GeoportailFrance.Landcover_Grid_Clc06_dom', 'GeoportailFrance.Landcover_Grid_Clc06_fr', 'GeoportailFrance.Landcover_Grid_Clc06r', 'GeoportailFrance.Landcover_Grid_Clc06r_dom', 'GeoportailFrance.Landcover_Grid_Clc06r_fr', 'GeoportailFrance.Landcover_Grid_Clc12', 'GeoportailFrance.Landcover_Grid_Clc90_fr', 'GeoportailFrance.Landcover_Hr_Dlt_Clc12', 'GeoportailFrance.Landcover_Hr_Dlt_Clc15', 'GeoportailFrance.Landcover_Hr_Gra_Clc15', 'GeoportailFrance.Landcover_Hr_Imd_Clc12', 'GeoportailFrance.Landcover_Hr_Imd_Clc15', 'GeoportailFrance.Landcover_Hr_Tcd_Clc12', 'GeoportailFrance.Landcover_Hr_Tcd_Clc15', 'GeoportailFrance.Landcover_Hr_Waw_Clc15', 'GeoportailFrance.Landcover_Sylvoecoregions', 'GeoportailFrance.Landcover_Sylvoecoregions_Alluvium', 'GeoportailFrance.Landuse_Agriculture2007', 'GeoportailFrance.Landuse_Agriculture2008', 'GeoportailFrance.Landuse_Agriculture2009', 'GeoportailFrance.Landuse_Agriculture2010', 'GeoportailFrance.Landuse_Agriculture2011', 'GeoportailFrance.Landuse_Agriculture2012', 'GeoportailFrance.Landuse_Agriculture2013', 'GeoportailFrance.Landuse_Agriculture2014', 'GeoportailFrance.Landuse_Agriculture2015', 'GeoportailFrance.Landuse_Agriculture2016', 'GeoportailFrance.Landuse_Agriculture2017', 'GeoportailFrance.Landuse_Agriculture2018', 'GeoportailFrance.Landuse_Agriculture2019', 'GeoportailFrance.Landuse_Agriculture2020', 'GeoportailFrance.Landuse_Agriculture2021', 'GeoportailFrance.Landuse_Agriculture_Latest', 'GeoportailFrance.Limites_administratives_express_Latest', 'GeoportailFrance.Ocsge_Constructions', 'GeoportailFrance.Ocsge_Constructions_2002', 'GeoportailFrance.Ocsge_Constructions_2010', 'GeoportailFrance.Ocsge_Constructions_2011', 'GeoportailFrance.Ocsge_Constructions_2014', 'GeoportailFrance.Ocsge_Constructions_2016', 'GeoportailFrance.Ocsge_Constructions_2017', 'GeoportailFrance.Ocsge_Constructions_2019', 'GeoportailFrance.Ocsge_Couverture', 'GeoportailFrance.Ocsge_Couverture_2002', 'GeoportailFrance.Ocsge_Couverture_2010', 'GeoportailFrance.Ocsge_Couverture_2011', 'GeoportailFrance.Ocsge_Couverture_2014', 'GeoportailFrance.Ocsge_Couverture_2016', 'GeoportailFrance.Ocsge_Couverture_2017', 'GeoportailFrance.Ocsge_Couverture_2019', 'GeoportailFrance.Ocsge_Usage', 'GeoportailFrance.Ocsge_Usage_2002', 'GeoportailFrance.Ocsge_Usage_2010', 'GeoportailFrance.Ocsge_Usage_2011', 'GeoportailFrance.Ocsge_Usage_2014', 'GeoportailFrance.Ocsge_Usage_2016', 'GeoportailFrance.Ocsge_Usage_2017', 'GeoportailFrance.Ocsge_Usage_2019', 'GeoportailFrance.Ocsge_Visu_2016', 'GeoportailFrance.Ocsge_Visu_2019', 'GeoportailFrance.Orthoimagery_Ortho_sat_Pleiades_2012', 'GeoportailFrance.Orthoimagery_Ortho_sat_Pleiades_2013', 'GeoportailFrance.Orthoimagery_Ortho_sat_Pleiades_2014', 'GeoportailFrance.Orthoimagery_Ortho_sat_Pleiades_2015', 'GeoportailFrance.Orthoimagery_Ortho_sat_Pleiades_2016', 'GeoportailFrance.Orthoimagery_Ortho_sat_Pleiades_2017', 'GeoportailFrance.Orthoimagery_Ortho_sat_Pleiades_2018', 'GeoportailFrance.Orthoimagery_Ortho_sat_Pleiades_2019', 'GeoportailFrance.Orthoimagery_Ortho_sat_Pleiades_2020', 'GeoportailFrance.Orthoimagery_Ortho_sat_Pleiades_2021', 'GeoportailFrance.Orthoimagery_Ortho_sat_Pleiades_2022', 'GeoportailFrance.Orthoimagery_Ortho_sat_Rapideye_2010', 'GeoportailFrance.Orthoimagery_Ortho_sat_Rapideye_2011', 'GeoportailFrance.Orthoimagery_Ortho_sat_Spot_2013', 'GeoportailFrance.Orthoimagery_Ortho_sat_Spot_2014', 'GeoportailFrance.Orthoimagery_Ortho_sat_Spot_2015', 'GeoportailFrance.Orthoimagery_Ortho_sat_Spot_2016', 'GeoportailFrance.Orthoimagery_Ortho_sat_Spot_2017', 'GeoportailFrance.Orthoimagery_Ortho_sat_Spot_2018', 'GeoportailFrance.Orthoimagery_Ortho_sat_Spot_2019', 'GeoportailFrance.Orthoimagery_Ortho_sat_Spot_2020', 'GeoportailFrance.Orthoimagery_Ortho_sat_Spot_2021', 'GeoportailFrance.Orthoimagery_Orthophos_Restrictedareas', 'GeoportailFrance.Orthoimagery_Orthophotos2000', 'GeoportailFrance.Orthoimagery_Orthophotos2000_2005', 'GeoportailFrance.Orthoimagery_Orthophotos2001', 'GeoportailFrance.Orthoimagery_Orthophotos2002', 'GeoportailFrance.Orthoimagery_Orthophotos2003', 'GeoportailFrance.Orthoimagery_Orthophotos2004', 'GeoportailFrance.Orthoimagery_Orthophotos2005', 'GeoportailFrance.Orthoimagery_Orthophotos2006', 'GeoportailFrance.Orthoimagery_Orthophotos2006_2010', 'GeoportailFrance.Orthoimagery_Orthophotos2007', 'GeoportailFrance.Orthoimagery_Orthophotos2008', 'GeoportailFrance.Orthoimagery_Orthophotos2009', 'GeoportailFrance.Orthoimagery_Orthophotos2010', 'GeoportailFrance.Orthoimagery_Orthophotos2011', 'GeoportailFrance.Orthoimagery_Orthophotos2011_2015', 'GeoportailFrance.Orthoimagery_Orthophotos2012', 'GeoportailFrance.Orthoimagery_Orthophotos2013', 'GeoportailFrance.Orthoimagery_Orthophotos2014', 'GeoportailFrance.Orthoimagery_Orthophotos2015', 'GeoportailFrance.Orthoimagery_Orthophotos2016', 'GeoportailFrance.Orthoimagery_Orthophotos2017', 'GeoportailFrance.Orthoimagery_Orthophotos2018', 'GeoportailFrance.Orthoimagery_Orthophotos2019', 'GeoportailFrance.Orthoimagery_Orthophotos2020', 'GeoportailFrance.Orthoimagery_Orthophotos_1950_1965', 'GeoportailFrance.Orthoimagery_Orthophotos_1980_1995', 'GeoportailFrance.Orthoimagery_Orthophotos_Bdortho', 'GeoportailFrance.Orthoimagery_Orthophotos_Coast2000', 'GeoportailFrance.Orthoimagery_Orthophotos_Ilesdunord', 'GeoportailFrance.Orthoimagery_Orthophotos_Irc', 'GeoportailFrance.Orthoimagery_Orthophotos_Irc_2013', 'GeoportailFrance.Orthoimagery_Orthophotos_Irc_2014', 'GeoportailFrance.Orthoimagery_Orthophotos_Irc_2015', 'GeoportailFrance.Orthoimagery_Orthophotos_Irc_2016', 'GeoportailFrance.Orthoimagery_Orthophotos_Irc_2017', 'GeoportailFrance.Orthoimagery_Orthophotos_Irc_2018', 'GeoportailFrance.Orthoimagery_Orthophotos_Irc_2019', 'GeoportailFrance.Orthoimagery_Orthophotos_Irc_2020', 'GeoportailFrance.Orthoimagery_Orthophotos_Irc_express_2021', 'GeoportailFrance.Orthoimagery_Orthophotos_Irc_express_2022', 'GeoportailFrance.Orthoimagery_Orthophotos_Irc_express_2023', 'GeoportailFrance.Orthoimagery_Orthophotos_Ortho_asp_pac2020', 'GeoportailFrance.Orthoimagery_Orthophotos_Ortho_asp_pac2021', 'GeoportailFrance.Orthoimagery_Orthophotos_Ortho_asp_pac2022', 'GeoportailFrance.Orthoimagery_Orthophotos_Ortho_asp_pac2023', 'GeoportailFrance.Orthoimagery_Orthophotos_Ortho_express_2021', 'GeoportailFrance.Orthoimagery_Orthophotos_Ortho_express_2022', 'GeoportailFrance.Orthoimagery_Orthophotos_Ortho_express_2023', 'GeoportailFrance.Orthoimagery_Orthophotos_Socle_asp_2018', 'GeoportailFrance.Orthoimagery_Orthophotos_Urgence_Alex', 'GeoportailFrance.Pcrs_Lamb93', 'GeoportailFrance.Prairies_Sensibles_Bcae', 'GeoportailFrance.Protectedareas_Apb', 'GeoportailFrance.Protectedareas_Apg', 'GeoportailFrance.Protectedareas_Aphn', 'GeoportailFrance.Protectedareas_Aplg', 'GeoportailFrance.Protectedareas_Bios', 'GeoportailFrance.Protectedareas_Gp', 'GeoportailFrance.Protectedareas_Inpg', 'GeoportailFrance.Protectedareas_Mnhn_Cdl_Parcels', 'GeoportailFrance.Protectedareas_Mnhn_Cdl_Perimeter', 'GeoportailFrance.Protectedareas_Mnhn_Conservatoires', 'GeoportailFrance.Protectedareas_Mnhn_Rn_Perimeter', 'GeoportailFrance.Protectedareas_Pn', 'GeoportailFrance.Protectedareas_Pnm', 'GeoportailFrance.Protectedareas_Pnr', 'GeoportailFrance.Protectedareas_Prsf', 'GeoportailFrance.Protectedareas_Ramsar', 'GeoportailFrance.Protectedareas_Rb', 'GeoportailFrance.Protectedareas_Ripn', 'GeoportailFrance.Protectedareas_Rn', 'GeoportailFrance.Protectedareas_Rnc', 'GeoportailFrance.Protectedareas_Rncf', 'GeoportailFrance.Protectedareas_Sic', 'GeoportailFrance.Protectedareas_Znieff1', 'GeoportailFrance.Protectedareas_Znieff1_Sea', 'GeoportailFrance.Protectedareas_Znieff2', 'GeoportailFrance.Protectedareas_Znieff2_Sea', 'GeoportailFrance.Protectedareas_Zpr', 'GeoportailFrance.Protectedareas_Zps', 'GeoportailFrance.Protectedsites_Mnhn_Reserves_regionales', 'GeoportailFrance.Securoute_Te_1te', 'GeoportailFrance.Securoute_Te_2te48', 'GeoportailFrance.Securoute_Te_All', 'GeoportailFrance.Securoute_Te_Oa', 'GeoportailFrance.Securoute_Te_Pn', 'GeoportailFrance.Securoute_Te_Pnd', 'GeoportailFrance.Securoute_Te_Te120', 'GeoportailFrance.Securoute_Te_Te72', 'GeoportailFrance.Securoute_Te_Te94', 'GeoportailFrance.Thr_Orthoimagery_Orthophotos', 'GeoportailFrance.Transportnetwork_Commontransportelements_Markerpost', 'GeoportailFrance.Transportnetworks_Railways', 'GeoportailFrance.Transportnetworks_Roads', 'GeoportailFrance.Transportnetworks_Roads_Direction', 'GeoportailFrance.Transportnetworks_Runways', 'GeoportailFrance.Transports_Drones_Restrictions', 'GeoportailFrance.Utilityandgovernmentalservices_All', 'GeoportailFrance.orthos', 'GeoportailFrance.parcels', 'GeoportailFrance.plan', 'HikeBike.HikeBike', 'HikeBike.HillShading', 'JusticeMap.americanIndian', 'JusticeMap.asian', 'JusticeMap.black', 'JusticeMap.hispanic', 'JusticeMap.income', 'JusticeMap.multi', 'JusticeMap.nonWhite', 'JusticeMap.plurality', 'JusticeMap.white', 'MtbMap', 'NASAGIBS.ASTER_GDEM_Greyscale_Shaded_Relief', 'NASAGIBS.BlueMarble', 'NASAGIBS.BlueMarble3031', 'NASAGIBS.BlueMarble3413', 'NASAGIBS.ModisAquaBands721CR', 'NASAGIBS.ModisAquaTrueColorCR', 'NASAGIBS.ModisTerraAOD', 'NASAGIBS.ModisTerraBands367CR', 'NASAGIBS.ModisTerraBands721CR', 'NASAGIBS.ModisTerraChlorophyll', 'NASAGIBS.ModisTerraLSTDay', 'NASAGIBS.ModisTerraSnowCover', 'NASAGIBS.ModisTerraTrueColorCR', 'NASAGIBS.ViirsEarthAtNight2012', 'NASAGIBS.ViirsTrueColorCR', 'NLS', 'OPNVKarte', 'OneMapSG.Default', 'OneMapSG.Grey', 'OneMapSG.LandLot', 'OneMapSG.Night', 'OneMapSG.Original', 'OpenAIP', 'OpenFireMap', 'OpenRailwayMap', 'OpenSeaMap', 'OpenSnowMap.pistes', 'OpenStreetMap.BZH', 'OpenStreetMap.BlackAndWhite', 'OpenStreetMap.CH', 'OpenStreetMap.DE', 'OpenStreetMap.France', 'OpenStreetMap.HOT', 'OpenStreetMap.Mapnik', 'OpenTopoMap', 'SafeCast', 'Stadia.AlidadeSmooth', 'Stadia.AlidadeSmoothDark', 'Stadia.OSMBright', 'Stadia.Outdoors', 'Stadia.StamenTerrain', 'Stadia.StamenTerrainBackground', 'Stadia.StamenTerrainLabels', 'Stadia.StamenTerrainLines', 'Stadia.StamenToner', 'Stadia.StamenTonerBackground', 'Stadia.StamenTonerLabels', 'Stadia.StamenTonerLines', 'Stadia.StamenTonerLite', 'Stadia.StamenWatercolor', 'Strava.All', 'Strava.Ride', 'Strava.Run', 'Strava.Water', 'Strava.Winter', 'SwissFederalGeoportal.JourneyThroughTime', 'SwissFederalGeoportal.NationalMapColor', 'SwissFederalGeoportal.NationalMapGrey', 'SwissFederalGeoportal.SWISSIMAGE', 'USGS.USImagery', 'USGS.USImageryTopo', 'USGS.USTopo', 'WaymarkedTrails.cycling', 'WaymarkedTrails.hiking', 'WaymarkedTrails.mtb', 'WaymarkedTrails.riding', 'WaymarkedTrails.skating', 'WaymarkedTrails.slopes', 'nlmaps.grijs', 'nlmaps.luchtfoto', 'nlmaps.pastel', 'nlmaps.standaard', 'nlmaps.water'])"
      ]
     },
     "execution_count": 6,
     "metadata": {},
     "output_type": "execute_result"
    }
   ],
   "source": [
    "get_basemaps().keys()"
   ]
  },
  {
   "cell_type": "code",
   "execution_count": 7,
   "metadata": {},
   "outputs": [
    {
     "name": "stdout",
     "output_type": "stream",
     "text": [
      "Downloaded image 01/40\n",
      "Downloaded image 02/40\n",
      "Downloaded image 03/40\n",
      "Downloaded image 04/40\n",
      "Downloaded image 05/40\n",
      "Downloaded image 06/40\n",
      "Downloaded image 07/40\n",
      "Downloaded image 08/40\n",
      "Downloaded image 09/40\n",
      "Downloaded image 10/40\n",
      "Downloaded image 11/40\n",
      "Downloaded image 12/40\n",
      "Downloaded image 13/40\n",
      "Downloaded image 14/40\n",
      "Downloaded image 15/40\n",
      "Downloaded image 16/40\n",
      "Downloaded image 17/40\n",
      "Downloaded image 18/40\n",
      "Downloaded image 19/40\n",
      "Downloaded image 20/40\n",
      "Downloaded image 21/40\n",
      "Downloaded image 22/40\n",
      "Downloaded image 23/40\n",
      "Downloaded image 24/40\n",
      "Downloaded image 25/40\n",
      "Downloaded image 26/40\n",
      "Downloaded image 27/40\n",
      "Downloaded image 28/40\n",
      "Downloaded image 29/40\n",
      "Downloaded image 30/40\n",
      "Downloaded image 31/40\n",
      "Downloaded image 32/40\n",
      "Downloaded image 33/40\n",
      "Downloaded image 34/40\n",
      "Downloaded image 35/40\n",
      "Downloaded image 36/40\n",
      "Downloaded image 37/40\n",
      "Downloaded image 38/40\n",
      "Downloaded image 39/40\n",
      "Downloaded image 40/40\n",
      "Saving GeoTIFF. Please wait...\n",
      "Image saved to satellite.tif\n"
     ]
    }
   ],
   "source": [
    "tms_to_geotiff(output=image, bbox=bbox, zoom=20, source=\"Satellite\", overwrite=True)"
   ]
  },
  {
   "cell_type": "markdown",
   "metadata": {},
   "source": []
  },
  {
   "cell_type": "code",
   "execution_count": 8,
   "metadata": {},
   "outputs": [
    {
     "data": {
      "application/vnd.jupyter.widget-view+json": {
       "model_id": "fc8f3b7e299447ea809bd66959bb3772",
       "version_major": 2,
       "version_minor": 0
      },
      "text/plain": [
       "Map(center=[29.67684, -95.369222], controls=(ZoomControl(options=['position', 'zoom_in_text', 'zoom_in_title',…"
      ]
     },
     "execution_count": 8,
     "metadata": {},
     "output_type": "execute_result"
    }
   ],
   "source": [
    "m.layers[-1].visible = False  # turn off the basemap\n",
    "m.add_raster(image, layer_name=\"Image\")\n",
    "m"
   ]
  }
 ],
 "metadata": {
  "kernelspec": {
   "display_name": "pytorch",
   "language": "python",
   "name": "python3"
  },
  "language_info": {
   "codemirror_mode": {
    "name": "ipython",
    "version": 3
   },
   "file_extension": ".py",
   "mimetype": "text/x-python",
   "name": "python",
   "nbconvert_exporter": "python",
   "pygments_lexer": "ipython3",
   "version": "3.11.7"
  }
 },
 "nbformat": 4,
 "nbformat_minor": 2
}
